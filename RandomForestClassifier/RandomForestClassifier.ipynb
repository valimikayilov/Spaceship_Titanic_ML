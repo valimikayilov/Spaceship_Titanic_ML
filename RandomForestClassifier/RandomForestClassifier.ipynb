{
 "cells": [
  {
   "cell_type": "code",
   "execution_count": null,
   "metadata": {},
   "outputs": [],
   "source": [
    "import numpy as np\n",
    "import pandas as pd\n",
    "import matplotlib as plt\n",
    "\n",
    "train_data = pd.read_csv('/Users/vali/projects/Spaceship_Titanic_ML/spaceship-titanic/train.csv')\n",
    "test_data = pd.read_csv('/Users/vali/projects/Spaceship_Titanic_ML/spaceship-titanic/test.csv')\n",
    "\n",
    "train_data.head()\n"
   ]
  }
 ],
 "metadata": {
  "language_info": {
   "name": "python"
  },
  "orig_nbformat": 4
 },
 "nbformat": 4,
 "nbformat_minor": 2
}
